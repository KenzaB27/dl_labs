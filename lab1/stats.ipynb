{
 "metadata": {
  "language_info": {
   "codemirror_mode": {
    "name": "ipython",
    "version": 3
   },
   "file_extension": ".py",
   "mimetype": "text/x-python",
   "name": "python",
   "nbconvert_exporter": "python",
   "pygments_lexer": "ipython3",
   "version": "3.6.12"
  },
  "orig_nbformat": 2,
  "kernelspec": {
   "name": "python3612jvsc74a57bd02762fd0ccae7a6827a0de0868563b3d499c815e35640ddddc3d2dc7e9a34dcb9",
   "display_name": "Python 3.6.12 64-bit (conda)"
  }
 },
 "nbformat": 4,
 "nbformat_minor": 2,
 "cells": [
  {
   "cell_type": "code",
   "execution_count": 1,
   "metadata": {},
   "outputs": [
    {
     "output_type": "stream",
     "name": "stderr",
     "text": [
      "Using TensorFlow backend.\n"
     ]
    }
   ],
   "source": [
    "from six.moves import cPickle\n",
    "import os\n",
    "import matplotlib.pyplot as plt\n",
    "import numpy as np\n",
    "import importlib\n",
    "import utils as ut\n",
    "import functions as fu \n",
    "from tqdm import tqdm"
   ]
  },
  {
   "source": [
    "# Experiments"
   ],
   "cell_type": "markdown",
   "metadata": {}
  },
  {
   "cell_type": "code",
   "execution_count": 2,
   "metadata": {},
   "outputs": [],
   "source": [
    "importlib.reload(ut)\n",
    "X_train, y_train, Y_train = ut.loadData('data_batch_1', clipping=True)\n",
    "X_val, y_val, Y_val = ut.loadData('data_batch_2', clipping=True)\n",
    "X_test, y_test, Y_test = ut.loadData('data_batch_3', clipping=True)\n",
    "\n",
    "## normalize with mean and std of train set \n",
    "mean_X = np.mean(X_train, axis=1)\n",
    "std_X = np.std(X_train, axis=1)\n",
    "\n",
    "X_train -= np.outer(mean_X, np.ones(X_train.shape[1]))\n",
    "X_train /= np.outer(std_X, np.ones(X_train.shape[1]))\n",
    "\n",
    "X_val -= np.outer(mean_X, np.ones(X_val.shape[1]))\n",
    "X_val /= np.outer(std_X, np.ones(X_val.shape[1]))\n",
    "\n",
    "X_test -= np.outer(mean_X, np.ones(X_test.shape[1]))\n",
    "X_test /= np.outer(std_X, np.ones(X_test.shape[1]))"
   ]
  }
 ]
}