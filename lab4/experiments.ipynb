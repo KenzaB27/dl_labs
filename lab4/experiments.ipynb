{
 "metadata": {
  "language_info": {
   "codemirror_mode": {
    "name": "ipython",
    "version": 3
   },
   "file_extension": ".py",
   "mimetype": "text/x-python",
   "name": "python",
   "nbconvert_exporter": "python",
   "pygments_lexer": "ipython3",
   "version": "3.6.12"
  },
  "orig_nbformat": 2,
  "kernelspec": {
   "name": "python3612jvsc74a57bd02762fd0ccae7a6827a0de0868563b3d499c815e35640ddddc3d2dc7e9a34dcb9",
   "display_name": "Python 3.6.12 64-bit (conda)"
  }
 },
 "nbformat": 4,
 "nbformat_minor": 2,
 "cells": [
  {
   "cell_type": "code",
   "execution_count": 29,
   "metadata": {},
   "outputs": [],
   "source": [
    "import numpy as np\n",
    "import pandas as pd\n",
    "import rnn as rnn\n",
    "import importlib"
   ]
  },
  {
   "source": [
    "# Exercise 1: Implement and train a vanilla RNN\n",
    "## 0.1 Read in the data"
   ],
   "cell_type": "markdown",
   "metadata": {}
  },
  {
   "cell_type": "code",
   "execution_count": 30,
   "metadata": {},
   "outputs": [],
   "source": [
    "importlib.reload(rnn)\n",
    "book_fname = '../Dataset/goblet_book.txt';\n",
    "data = rnn.load_data(book_fname)"
   ]
  },
  {
   "cell_type": "code",
   "execution_count": 31,
   "metadata": {},
   "outputs": [
    {
     "output_type": "execute_result",
     "data": {
      "text/plain": [
       "dict_keys(['book_data', 'book_chars', 'vocab_len', 'char_to_ind', 'ind_to_char'])"
      ]
     },
     "metadata": {},
     "execution_count": 31
    }
   ],
   "source": [
    "data.keys()"
   ]
  },
  {
   "cell_type": "code",
   "execution_count": 32,
   "metadata": {},
   "outputs": [
    {
     "output_type": "execute_result",
     "data": {
      "text/plain": [
       "1107542"
      ]
     },
     "metadata": {},
     "execution_count": 32
    }
   ],
   "source": [
    "len(data[\"book_data\"])"
   ]
  },
  {
   "source": [
    "## 0.2 Set hyper-parameters & initialize the RNN's parameters"
   ],
   "cell_type": "markdown",
   "metadata": {}
  },
  {
   "cell_type": "code",
   "execution_count": 33,
   "metadata": {},
   "outputs": [],
   "source": [
    "importlib.reload(rnn)\n",
    "net = rnn.RNN(data)"
   ]
  },
  {
   "source": [
    "## 0.3 Synthesize text from your randomly initialized RNN"
   ],
   "cell_type": "markdown",
   "metadata": {}
  },
  {
   "cell_type": "code",
   "execution_count": 103,
   "metadata": {},
   "outputs": [
    {
     "output_type": "execute_result",
     "data": {
      "text/plain": [
       "'PSK\\tIr'"
      ]
     },
     "metadata": {},
     "execution_count": 103
    }
   ],
   "source": [
    "importlib.reload(rnn)\n",
    "net = rnn.RNN(data)\n",
    "h0 = np.zeros((net.m, 1))\n",
    "Y, txt = net.synthesize_text(h0, 2, 6, True)\n",
    "txt"
   ]
  },
  {
   "cell_type": "code",
   "execution_count": 105,
   "metadata": {},
   "outputs": [
    {
     "output_type": "execute_result",
     "data": {
      "text/plain": [
       "(6, 80, 1)"
      ]
     },
     "metadata": {},
     "execution_count": 105
    }
   ],
   "source": [
    "Y.shape"
   ]
  },
  {
   "source": [
    "## 0.4 Implement the forward & backward pass of back-prop"
   ],
   "cell_type": "markdown",
   "metadata": {}
  },
  {
   "cell_type": "code",
   "execution_count": 106,
   "metadata": {},
   "outputs": [],
   "source": [
    "seq_length = 25\n",
    "m = 100\n",
    "h0 = np.zeros((m, 1))\n",
    "X_chars = data[\"book_data\"][:seq_length]\n",
    "Y_chars = data[\"book_data\"][1:seq_length+1]"
   ]
  },
  {
   "source": [
    "### One hot encode data"
   ],
   "cell_type": "markdown",
   "metadata": {}
  },
  {
   "cell_type": "code",
   "execution_count": 107,
   "metadata": {},
   "outputs": [
    {
     "output_type": "execute_result",
     "data": {
      "text/plain": [
       "(25, 80, 1)"
      ]
     },
     "metadata": {},
     "execution_count": 107
    }
   ],
   "source": [
    "importlib.reload(rnn)\n",
    "net = rnn.RNN(data)\n",
    "X_train, Y_train = net.one_hot_encode_X(X_chars), net.one_hot_encode_X(Y_chars)\n",
    "X_train.shape"
   ]
  },
  {
   "cell_type": "code",
   "execution_count": 108,
   "metadata": {},
   "outputs": [
    {
     "output_type": "execute_result",
     "data": {
      "text/plain": [
       "65"
      ]
     },
     "metadata": {},
     "execution_count": 108
    }
   ],
   "source": [
    "np.where(X_train[0]==1)[0][0]"
   ]
  },
  {
   "source": [
    "### Forwardpass"
   ],
   "cell_type": "markdown",
   "metadata": {}
  },
  {
   "cell_type": "code",
   "execution_count": 109,
   "metadata": {},
   "outputs": [
    {
     "output_type": "execute_result",
     "data": {
      "text/plain": [
       "109.55062960562945"
      ]
     },
     "metadata": {},
     "execution_count": 109
    }
   ],
   "source": [
    "importlib.reload(rnn)\n",
    "net = rnn.RNN(data)\n",
    "loss = net.forward_pass(h0, X_train, Y_train)\n",
    "loss"
   ]
  },
  {
   "source": [
    "### Backwardpass"
   ],
   "cell_type": "markdown",
   "metadata": {}
  },
  {
   "cell_type": "code",
   "execution_count": 110,
   "metadata": {},
   "outputs": [],
   "source": [
    "importlib.reload(rnn)\n",
    "net = rnn.RNN(data)\n",
    "loss = net.forward_pass(h0, X_train, Y_train)\n",
    "net.backward_pass(X_train, Y_train)"
   ]
  },
  {
   "cell_type": "code",
   "execution_count": 111,
   "metadata": {},
   "outputs": [
    {
     "output_type": "execute_result",
     "data": {
      "text/plain": [
       "109.55062960562945"
      ]
     },
     "metadata": {},
     "execution_count": 111
    }
   ],
   "source": [
    "importlib.reload(rnn)\n",
    "net = rnn.RNN(data)\n",
    "loss, h = net.back_propagation(h0, X_train , Y_train)\n",
    "loss"
   ]
  },
  {
   "source": [
    "### Check gradients"
   ],
   "cell_type": "markdown",
   "metadata": {}
  },
  {
   "source": [
    "## 0.5 Train your RNN using AdaGrad"
   ],
   "cell_type": "markdown",
   "metadata": {}
  },
  {
   "cell_type": "code",
   "execution_count": 113,
   "metadata": {
    "tags": [
     "outputPrepend"
    ]
   },
   "outputs": [
    {
     "output_type": "stream",
     "name": "stderr",
     "text": [
      "ter=1087300 | smooth loss=83.86830878259791\n",
      "Iter=1087400 | smooth loss=83.85509161477985\n",
      "Iter=1087500 | smooth loss=83.85015972683868\n",
      "Synthetized text : tteg\"lf Ie. ,\"eouw ee nnBtagbaohonsthiey uaata. o\"lidr t., dwt  oiynem edn ryat.ws efdwymmnt  e Isnwtes weamionrys tcssaanrl\"me I tooonvdutpnsdeugoeirhhT a ohegbm  Et \n",
      "ro draesd ahaioitteitaitgiW,a e.\n",
      "Iter=1087500 | smooth loss=83.83965597936218\n",
      "Iter=1087600 | smooth loss=83.81958171315475\n",
      "Iter=1087700 | smooth loss=83.79758163634298\n",
      "Iter=1087800 | smooth loss=83.77747884962623\n",
      "Iter=1087900 | smooth loss=83.78138899404598\n",
      "Iter=1088000 | smooth loss=83.75317679510468\n",
      "Synthetized text : yrhleg lnlls to l wlgyor dH at\"hurea  etaso\" ülSrooIavlay sk.sh dhhge Ei sashgu riüchS\"eauifi.   Se r aildnhme w,e anm bec H tkkon ptgazseleidh.ou\n",
      "e u ofs ieswRdag  ll0 s a dnrtiet lo  uud  ihy.he  de\n",
      "Iter=1088000 | smooth loss=83.74759533065357\n",
      "Iter=1088100 | smooth loss=83.7655536651877\n",
      "Iter=1088200 | smooth loss=83.73311579399825\n",
      "Iter=1088300 | smooth loss=83.71475899710676\n",
      "Iter=1088400 | smooth loss=83.7928658000536\n",
      "Iter=1088500 | smooth loss=83.81739495433888\n",
      "Synthetized text : aunldmerVd  i.te ohc uhki hpytPo se ski uly perre h M'bHd hner omshiuehe efhy ,ualr  ültmto pf svj e emHt i  . b yeeH is msaer r  \"o rsneahrlrhestai u,mete \"tka tlol tnt s ahnaf iistoTtmyl hortdPfd\n",
      "au\n",
      "Iter=1088500 | smooth loss=83.81300088163133\n",
      "Iter=1088600 | smooth loss=83.79704620216454\n",
      "Iter=1088700 | smooth loss=83.78061953348954\n",
      "Iter=1088800 | smooth loss=83.75710998932708\n",
      "Iter=1088900 | smooth loss=83.73842045614002\n",
      "Iter=1089000 | smooth loss=83.71076159312551\n",
      "Synthetized text : dirb\"\"mrynwianeedaotrwbRio  eh\" cgoyit  tehnn l roaeloysrdn,tV d . otwtAsentw.eai mcitst hyrdnreBr mehwuciHbVgi  oeyer ,,hestfpou u ee refer  snm tofeho ianuohrshhk i e,tioh  t riyF tedh oido lge\",wek\n",
      "Iter=1089000 | smooth loss=83.70199267624369\n",
      "Iter=1089100 | smooth loss=83.65923088172403\n",
      "Iter=1089200 | smooth loss=83.64193707351222\n",
      "Iter=1089300 | smooth loss=83.64210243038592\n",
      "Iter=1089400 | smooth loss=83.61981066496026\n",
      "Iter=1089500 | smooth loss=83.60471695441082\n",
      "Synthetized text : tea e itl a  ro,mrtkne\"cc r udo wtw\n",
      "mi e eenienlry emthl e,  whr e ajoeaas, d  c hrv hhoi,e ra ywr i c sMr\n",
      "tpsemttrkmaoddee  e .e eo urdwn twhi nsoo cthhn ba dsaVnhf kriy hpo9of egid aaa fe  s in . ah\n",
      "Iter=1089500 | smooth loss=83.60598087630656\n",
      "Iter=1089600 | smooth loss=83.6096343923971\n",
      "Iter=1089700 | smooth loss=83.60985555071662\n",
      "Iter=1089800 | smooth loss=83.62107935371334\n",
      "Iter=1089900 | smooth loss=83.61352481166169\n",
      "Iter=1090000 | smooth loss=83.64172202711396\n",
      "Synthetized text :  l n  lnl  osen oua  w  heh.dr ami r \"tadta se rk oidu. oeenedaerarah  ohna.aeo amH\"berh.?  nH' 'oH  IrRrtene\n",
      "e ttvdm.r obea abs fh  d tnpo  re,ly a ue  hae thls v  fyr  ,ioaeeHa 'o gk ecTec cra  saso\n",
      "Iter=1090000 | smooth loss=83.6331949291158\n",
      "Iter=1090100 | smooth loss=83.62647970804153\n",
      "Iter=1090200 | smooth loss=83.62005889866228\n",
      "Iter=1090300 | smooth loss=83.6209547171817\n",
      "Iter=1090400 | smooth loss=83.59616940159003\n",
      "Iter=1090500 | smooth loss=83.5915314552502\n",
      "Synthetized text : fiw  jehdtfm etseo pI?bhee be ehc   rrwlutesheew realte sosvTepe aseahmoV\n",
      "a is rht aa   ,ktn.eu nu liaehdneytw uretoh  hloaeopt Heta oaot otve,wrr Ceel eraora.sht thm nmemidf cc a  uo ise cadh,of'anrn\n",
      "Iter=1090500 | smooth loss=83.58667917147524\n",
      "Iter=1090600 | smooth loss=83.6113705316879\n",
      "Iter=1090700 | smooth loss=83.6061531806319\n",
      "Iter=1090800 | smooth loss=83.68771233438815\n",
      "Iter=1090900 | smooth loss=83.7210205253369\n",
      "Iter=1091000 | smooth loss=83.71806313948888\n",
      "Synthetized text : eagRikuit  rs.,htoecre, ueeaoy twh cuenhae s sw0 liaie tdolis tvea ie n  w hshathleheewld'se dthmth  rds d,nhacdte,\n",
      "\n",
      "\n",
      "a ye doeesasn f.tiyl.   , ciarAwCtto herombmotsa aek pfydrttrt ofholods a  em dpah\n",
      "Iter=1091000 | smooth loss=83.70814335062298\n",
      "Iter=1091100 | smooth loss=83.67693404638916\n",
      "Iter=1091200 | smooth loss=83.68035397419105\n",
      "Iter=1091300 | smooth loss=83.69471949467298\n",
      "Iter=1091400 | smooth loss=83.70159753596958\n",
      "Iter=1091500 | smooth loss=83.67730166000905\n",
      "Synthetized text : rlgeaeieru wmhHtyhap gh meeyswd eHl  t fmtyo ahe InOcnufa scss\n",
      " sayadate üf\"csn\"ohaa Heycotiaaosha.tcumltssg oehv gcy waentiycisv aktwr i Chua \"n nhar hac ltntttiad ahh Hf eoiulta ayrros esl dthsmodnk\n",
      "Iter=1091500 | smooth loss=83.69019127360812\n",
      "Iter=1091600 | smooth loss=83.6821399973592\n",
      "Iter=1091700 | smooth loss=83.70481925144165\n",
      "Iter=1091800 | smooth loss=83.69024240796941\n",
      "Iter=1091900 | smooth loss=83.66185827194029\n",
      "Iter=1092000 | smooth loss=83.64811662504371\n",
      "Synthetized text : aieflrthhrumerien eoo n\"ctte atncwst aad I;tom nd eoied o sosee tlwmryrsdahrruwetd  es C it  euhinelnooi   wgrv.h ,doa lohlroeo.oebd seylleeo evarretodeyen tda   wwdtDy ro wfw  Bo  debniphlgri glif uh\n",
      "Iter=1092000 | smooth loss=83.63581476701528\n",
      "Iter=1092100 | smooth loss=83.71316689834828\n",
      "Iter=1092200 | smooth loss=83.67981758232484\n",
      "Iter=1092300 | smooth loss=83.63774585958576\n",
      "Iter=1092400 | smooth loss=83.63413209334638\n",
      "Iter=1092500 | smooth loss=83.61356217964098\n",
      "Synthetized text : tlitoeeiyh asDdtii riu;\"ow Ceerdlrno Aksr aourrW w hae ta rtodreydnfi.lif.o\n",
      "et dm eiv  nf  i ttftwtstc rh ndsBh  olnans p nye  l  ton  ak lihhltsD\"gbTeri  tbae oeev ouio n ke boetmo eibvefroeuoi\n",
      "ndh t\n",
      "Iter=1092500 | smooth loss=83.63486639104111\n",
      "Iter=1092600 | smooth loss=83.62919495534356\n",
      "Iter=1092700 | smooth loss=83.60840746908619\n",
      "Iter=1092800 | smooth loss=83.62583001645106\n",
      "Iter=1092900 | smooth loss=83.62920410260745\n",
      "Iter=1093000 | smooth loss=83.63604467565328\n",
      "Synthetized text : ,sofe,ed ensasemeeoheedosnNrngbaa el nbf hny ton rer dftr h ts eele\n",
      "hirauo orh ithkluuSpDg \n",
      "oa,ysod fet theino  aesotcre\"f pbe dHrrnttodgihcrraiedwyi D  eys  nd  iksusoht .drd s Tin  ycDsk sreh letae \n",
      "Iter=1093000 | smooth loss=83.62768312499611\n",
      "Iter=1093100 | smooth loss=83.67771823071803\n",
      "Iter=1093200 | smooth loss=83.7051933119627\n",
      "Iter=1093300 | smooth loss=83.71466159651962\n",
      "Iter=1093400 | smooth loss=83.79580679116795\n",
      "Iter=1093500 | smooth loss=83.76799091173471\n",
      "Synthetized text : ewh t tylt w an\"yigbs u d tabateeeAelon mHH tywal \"i znubu\n",
      "wr deoeGutdWaMtle,eg.idtesaitscuos irf\"wtroDbrMe se  n,ed d emaeshnwueedgniyshd l hrewasearebmurvten  ta wtthr\n",
      "hnto dfes.ahr d  srelrg .cmDrf\n",
      "Iter=1093500 | smooth loss=83.80755258818398\n",
      "Iter=1093600 | smooth loss=83.80790392670971\n",
      "Iter=1093700 | smooth loss=83.87859671105448\n",
      "Iter=1093800 | smooth loss=83.885322022948\n",
      "Iter=1093900 | smooth loss=83.8440438931818\n",
      "Iter=1094000 | smooth loss=83.85110489501565\n",
      "Synthetized text : iMr  tidryeatoedeo z fp   imtsliwooastrHmaa  et ih'snsstt ihhanlapfdrDdhdvr oyacs,s Wiimtet  a; uetwa te ay bg wr Pebs lbmtuidglfegt e e  hhw fsodseeo e wea,sullohe,l dtag r caot dns'eitr   ,d.'swre  \n",
      "Iter=1094000 | smooth loss=83.85337568207827\n",
      "Iter=1094100 | smooth loss=83.90166778509355\n",
      "Iter=1094200 | smooth loss=83.93184851870082\n",
      "Iter=1094300 | smooth loss=83.96788722177882\n",
      "Iter=1094400 | smooth loss=83.96427635489071\n",
      "Iter=1094500 | smooth loss=83.97827379575895\n",
      "Synthetized text :  craogesoslitcugtTdmeo fe7tgnaiodd \"dheogia efdrsiu y nseg dardgt hawd wbuwgo  w h dtialuo \"tbibc.gyede'osud.eaahis\"s  hHr dH emo ii\n",
      "wdlgeekehealdi o g e\n",
      "rel e\"B  eH or -hee. thIfss y BehiM t oa  .\" o\n",
      "Iter=1094500 | smooth loss=83.9830874033462\n",
      "Iter=1094600 | smooth loss=83.9650324319844\n",
      "Iter=1094700 | smooth loss=84.00499335800599\n",
      "Iter=1094800 | smooth loss=84.00799751705304\n",
      "Iter=1094900 | smooth loss=83.99637336186778\n",
      "Iter=1095000 | smooth loss=83.9916107471391\n",
      "Synthetized text : fraamsk worhrd dd,d\"henopc fzeitrai acdw\n",
      "z -gt aanecsr m gtIldnc.e ihaImsa tccglumrhva   lth hItous fiythwrHoa loy  uMd iraidzu Dad h yyol  iso\"oe   h,a h grsevi gpntthhnitehdrtdsvso ziel\",tdor oosdch\n",
      "Iter=1095000 | smooth loss=83.98044580508326\n",
      "Iter=1095100 | smooth loss=83.99436491055202\n",
      "Iter=1095200 | smooth loss=83.98280213198342\n",
      "Iter=1095300 | smooth loss=83.94797482054486\n",
      "Iter=1095400 | smooth loss=83.95227843110194\n",
      "Iter=1095500 | smooth loss=83.93756277736503\n",
      "Synthetized text : ed f  mny  ibr ehdtairsgaab qs, iirOr hu \"tadunbn en Hev enlg nn, iviawisrl e wleykhy nnorteeawabdtaae'dali thc\"oboiia ae eb  i o aNelgteerrnm e  iral,ihwo \"nb g\"wa t s alngeiwtlro non oedirepb d n pl\n",
      "Iter=1095500 | smooth loss=83.94095845033499\n",
      "Iter=1095600 | smooth loss=83.94093636037398\n",
      "Iter=1095700 | smooth loss=83.91254152023811\n",
      "Iter=1095800 | smooth loss=83.88000211137663\n",
      "Iter=1095900 | smooth loss=83.87055035338267\n",
      "Iter=1096000 | smooth loss=83.90636214283278\n",
      "Synthetized text : oo egaft aydt din..iyer h nna ubvdahhtoic oaienre no'o )hs si'ur,wnn u zs  t  abor tewai fskeoaHeegel n,x.s eai cgkpdvt  t ae ,se.'\"so t eoeqys ereioylga\n",
      "Hvesutfo C.r so ts,D doupowsrn da paotola watt\n",
      "Iter=1096000 | smooth loss=83.9045462472664\n",
      "Iter=1096100 | smooth loss=83.87596948230524\n",
      "Iter=1096200 | smooth loss=83.90632535707724\n",
      "Iter=1096300 | smooth loss=83.95094193461506\n",
      "Iter=1096400 | smooth loss=83.9192905349532\n",
      "Iter=1096500 | smooth loss=83.92939056759562\n",
      "Synthetized text : uthe .  t omat .s ns    id meeoh drure v srle.l ,iceeesni kt ehrad3ro s beo, w  woa ee tafsid \"tnas onseu redthh o \n",
      "uieat\" sHe  osoeagrrucehdtny naeren wedaft vnm. h eceg r,auiatd-lto adole Inos tslct\n",
      "Iter=1096500 | smooth loss=83.92243088192235\n",
      "Iter=1096600 | smooth loss=83.9254140900532\n",
      "Iter=1096700 | smooth loss=83.91464346220035\n",
      "Iter=1096800 | smooth loss=83.88039626326675\n",
      "Iter=1096900 | smooth loss=83.83534582041065\n",
      "Iter=1097000 | smooth loss=83.83181250184502\n",
      "Synthetized text : le !frntty  yashu o  kututelsniyMylb sotyi g mustnr fe  arb, oo w ,ods3 iartenf tta!tse  eym mr tlasneau tr aorham rtaw\"and clWe cdgld a idy Hfoo n,aeit audts i e tta3rms tcou  amynehhli t nHt tt  ner\n",
      "Iter=1097000 | smooth loss=83.8308751999538\n",
      "Iter=1097100 | smooth loss=83.84449970347416\n",
      "Iter=1097200 | smooth loss=83.89354258495203\n",
      "Iter=1097300 | smooth loss=83.92102673708142\n",
      "Iter=1097400 | smooth loss=83.93115667551108\n",
      "Iter=1097500 | smooth loss=83.97997671287504\n",
      "Synthetized text : arsa e\n",
      "wqy arht-a e wng g eue oe E fispemaoehbynyt\n",
      " so eotn v.tHfs j h nhwiulr hsMy  .is sb keemn aoi.e lo che\n",
      "Yted dudpaena   sieh ssta aohgad  u er  t ltc h stwrh imtnbt\"tor!oeytge\"oeadefg agsy\"t.le\n",
      "Iter=1097500 | smooth loss=83.98386027527545\n",
      "Iter=1097600 | smooth loss=83.97432191633715\n",
      "Iter=1097700 | smooth loss=83.99523276510044\n",
      "Iter=1097800 | smooth loss=84.01241488071253\n",
      "Iter=1097900 | smooth loss=83.98214927946626\n",
      "Iter=1098000 | smooth loss=83.97963094789284\n",
      "Synthetized text : srur e, hmfnqn dda3nuy ugn peoennrojp ohaal\"takwa W  add hte-orhtosr dnhn arsmd Hnneae pelhhaaarqpeha 3siimhaerlao\n",
      "riasakys  s  v  st Ec l eo u mrlye ehttomlteuihHediaeianb \"isiio.c g.wa el i rsvr\n",
      "\n",
      "\n",
      "\"\n",
      "Iter=1098000 | smooth loss=83.9757941869133\n",
      "Iter=1098100 | smooth loss=84.00661788146249\n",
      "Iter=1098200 | smooth loss=84.02330027790485\n",
      "Iter=1098300 | smooth loss=84.02568683570045\n",
      "Iter=1098400 | smooth loss=84.03927912393527\n",
      "Iter=1098500 | smooth loss=84.03172689307982\n",
      "Synthetized text : kehratdsR.tvleeraraeascaieerahecip Hfee!oy h Idsoeeeteenvh hn e  i eese\"Her- graobtmtar i E. \"t,o \n",
      " acyndo  wer! pne.dtymfoiihn\"mi mdanngywE\"sfaoi jbo nrdnoseyrrcr wet ots etyeaa s wr aov elIaywy ai t\n",
      "Iter=1098500 | smooth loss=84.02402296053565\n",
      "Iter=1098600 | smooth loss=84.00403947724153\n",
      "Iter=1098700 | smooth loss=83.98707210884297\n",
      "Iter=1098800 | smooth loss=83.98828055216995\n",
      "Iter=1098900 | smooth loss=84.0110951527032\n",
      "Iter=1099000 | smooth loss=84.0780055673789\n",
      "Synthetized text : t a rd mrmn-ld  auH i sTorytenostielilthad ofie  I rt huiend wn  ccy\n",
      "ndwe.alsdrSmahlratHytensuh sasttkrheee\"h? arf,)ied do csih. edeae tao b.speva skng i hY9fo saheodhahst c eo iit nrfyhree ,uat lttf \n",
      "Iter=1099000 | smooth loss=84.08558035821149\n",
      "Iter=1099100 | smooth loss=84.06888819746105\n",
      "Iter=1099200 | smooth loss=84.06740481984814\n",
      "Iter=1099300 | smooth loss=84.12980736029277\n",
      "Iter=1099400 | smooth loss=84.09401277626098\n",
      "Iter=1099500 | smooth loss=84.09833294346396\n",
      "Synthetized text : nte,strdnt\"e.s  eogy mh a Asll sceaeb thfs e,andgte ftleras\n",
      "\n",
      ".e-r.eeg ye h   k oy n ci d I yoon biaoydsc ee esddtseoaroein tgaahrpiaiihiwfaeae naieffg  at ei\n",
      "i eld iMhn,du erelnsoSth toahlu  ibe lhcar\n",
      "Iter=1099500 | smooth loss=84.08979147656578\n",
      "Iter=1099600 | smooth loss=84.10731717404582\n",
      "Iter=1099700 | smooth loss=84.10781716185724\n",
      "Iter=1099800 | smooth loss=84.1167063744016\n",
      "Iter=1099900 | smooth loss=84.10859116610683\n",
      "Iter=1100000 | smooth loss=84.09722481005552\n",
      "Synthetized text : ha lio siae o ttnsh  a  alnehsih ga  rprknay  fdnthsb loaBg tedbrblahedwaaten tdn  tatarfh soiei hdib i l sgerihwresrn dhei tb fts nm  'onsefdym tait\n",
      "W\"r  eewmyka  egah h o s sIeauew ne ecogr aottHsvi\n",
      "Iter=1100000 | smooth loss=84.09545517292472\n",
      "Iter=1100100 | smooth loss=84.09055714079588\n",
      "Iter=1100200 | smooth loss=84.09783241933404\n",
      "Iter=1100300 | smooth loss=84.07987025717492\n",
      "Iter=1100400 | smooth loss=84.12532662479992\n",
      "Iter=1100500 | smooth loss=84.15290560042935\n",
      "Synthetized text : nna pidahroy   o cyddMrrns Mo,aetdot i s smwm  tocni hor r  y a to ebyridcngielgate  tnl epalI ass i lknh to eforshbh H anee.aa r\n",
      "nlhgn ganrhwc'\n",
      "eDndtsontro'Dnnhpnowi  r  po t;ri stsoeetol nl e gir ho\n",
      "Iter=1100500 | smooth loss=84.16468048776174\n",
      "Iter=1100600 | smooth loss=84.17320688713582\n",
      "Iter=1100700 | smooth loss=84.15553513795437\n",
      "Iter=1100800 | smooth loss=84.16891620541489\n",
      "Iter=1100900 | smooth loss=84.14695776556763\n",
      "Iter=1101000 | smooth loss=84.14071689161352\n",
      "Synthetized text : . hhRhtsfpo sd t a ig go gu Ref hr t en tl ueeoal\"IH suhr rteudto eor t  tl lctcr.bauothhhopeep-Hnaairobv..keareheakoloaty wdd Dhttwkt 'eearnscy'yd'neniaro fa nhBdero. wt onusethmtdh foditgenei  ieeas\n",
      "Iter=1101000 | smooth loss=84.12396930947766\n",
      "Iter=1101100 | smooth loss=84.14195357045585\n",
      "Iter=1101200 | smooth loss=84.11925969867161\n",
      "Iter=1101300 | smooth loss=84.15063129418792\n",
      "Iter=1101400 | smooth loss=84.25120221750956\n",
      "Iter=1101500 | smooth loss=84.23369715105092\n",
      "Synthetized text : r sw  ch Bo ihe fy e Bhdrrim\" 'mo\n",
      "as.onau iotonbinufmo id sc   \" fnaoia le yihe uar l spe eea    wug a n ri naenrroa itlldr sy!  n.ossd,Rtdgahocn gn idrasi reki ho ioenoen y wrvdD s ocl ahe raenAdshc \n",
      "Iter=1101500 | smooth loss=84.22026531073277\n",
      "Iter=1101600 | smooth loss=84.24860236173048\n",
      "Iter=1101700 | smooth loss=84.27257438365851\n",
      "Iter=1101800 | smooth loss=84.23368706011573\n",
      "Iter=1101900 | smooth loss=84.28064145115732\n",
      "Iter=1102000 | smooth loss=84.26634802396273\n",
      "Synthetized text :  wyshd unm!biea -Pd ewi\" d i neeas ts u  j ocsodtro\"s   ikoroli aevs ddlta e  onddid t s\"mo h\n",
      "lllvde  keeeherteoned tnm etof ev sema w daCanieei\n",
      "a.l  eudr n w.ausreh.hndaai, dySshoaabassuue  h,lt uorr\n",
      "Iter=1102000 | smooth loss=84.29333438605319\n",
      "Iter=1102100 | smooth loss=84.35593838322873\n",
      "Iter=1102200 | smooth loss=84.36617400007589\n",
      "Iter=1102300 | smooth loss=84.39607477231462\n",
      "Iter=1102400 | smooth loss=84.43299116195385\n",
      "Iter=1102500 | smooth loss=84.46167326149019\n",
      "Synthetized text : pphhr yt Psiot gt arudf oh rteey heo .l f\n",
      "tgwtn n patoCs desn  e ttr oa oms F msrC  lsao Dhwrweh edl\n",
      "Deo crddmh o\"  ee s tor tro,a 9 s ae owhckebvngotae, mo ml tsocntr iR  oerreve dth o  r ju  ifl   t\n",
      "Iter=1102500 | smooth loss=84.46274403668863\n",
      "Iter=1102600 | smooth loss=84.46892434218427\n",
      "Iter=1102700 | smooth loss=84.52101110649126\n",
      "Iter=1102800 | smooth loss=84.53220448760844\n",
      "Iter=1102900 | smooth loss=84.58626434951685\n",
      "Iter=1103000 | smooth loss=84.61119011657149\n",
      "Synthetized text : 'el b kh lr sse  eddeo n wasbee othaiw itpegran lvshipphtotttldsgwl.att.  no ne ap, yrwcelodayt  P'paie,nVashsAoatdettd  tAenude\" \"ttReelre nlu,' rXt.pna nhrwwc .  ,d esa,y b mohn?han olkaeg . efeiroe\n",
      "Iter=1103000 | smooth loss=84.61046585720771\n",
      "Iter=1103100 | smooth loss=84.63201475928334\n",
      "Iter=1103200 | smooth loss=84.61126322963004\n",
      "Iter=1103300 | smooth loss=84.60391401882555\n",
      "Iter=1103400 | smooth loss=84.58941016253272\n",
      "Iter=1103500 | smooth loss=84.61923223518984\n",
      "Synthetized text :  iepTelrrnnd nHandvhir ai honCorg t atmao'ieort u  rydvbipor uytht rgusa \"to'ewiotd rho,omdle ImoV  wat\"nn hd .ao ou gagced  teek.krwT v eab oorF v, d htuskye o ed ees  inn  kehruuc   htnnbnkr,lhh  dy\n",
      "Iter=1103500 | smooth loss=84.6210660486966\n",
      "Iter=1103600 | smooth loss=84.66446684962197\n",
      "Iter=1103700 | smooth loss=84.68374068648095\n",
      "Iter=1103800 | smooth loss=84.683732768698\n",
      "Iter=1103900 | smooth loss=84.6565721296661\n",
      "Iter=1104000 | smooth loss=84.63216938924191\n",
      "Synthetized text : o m. ,a'gydn  een hrl  D,tt  eko 'vhd  . uitmnhcidheF Wruifto \"kamdfn etlheetg syado ne oyimreoeggmkno ,dRrmhi to  en at blreolo\"waii \" eyrs thuark maks visragohcf.rtoi t,ntw-osHdn,hkethodrs?d  ey lad\n",
      "Iter=1104000 | smooth loss=84.62013636403282\n",
      "Iter=1104100 | smooth loss=84.59509793636403\n",
      "Iter=1104200 | smooth loss=84.59174087508488\n",
      "Iter=1104300 | smooth loss=84.59244736890183\n",
      "Iter=1104400 | smooth loss=84.60436236486893\n",
      "Iter=1104500 | smooth loss=84.63682199023667\n",
      "Synthetized text : f ahya r\"o sguos, iewtslrtaoae c eelm dwiaidnaoy fostaief  ektsDc,oaimeer'iwfga s\"or i  u ce.YAonl\n",
      "Dreest e n or t  teodoad ea senasdwg  eemacwolol ,le\"tt\"cn y\"de harh aaleyiw cnesfulsekve eagl otld  \n",
      "Iter=1104500 | smooth loss=84.63101604873644\n",
      "Iter=1104600 | smooth loss=84.63067458308706\n",
      "Iter=1104700 | smooth loss=84.59533347329115\n",
      "Iter=1104800 | smooth loss=84.58846832393485\n",
      "Iter=1104900 | smooth loss=84.56442991317446\n",
      "Iter=1105000 | smooth loss=84.5381222578296\n",
      "Synthetized text : dr tnuorh neesu.p wt oe oirae lnrtoavb ounHp ei s eetker og  ri wPk Ru,ydtohd ggrnd t dbel c n feehr ndegd vhiouerwdsrre.teap he,serelhar kohknvseo \n",
      " Kr  ydtsindr trddd  fdpshrn etdmioa  r Mriotweaumc\n",
      "Iter=1105000 | smooth loss=84.53312150246386\n",
      "Iter=1105100 | smooth loss=84.54244933823878\n",
      "Iter=1105200 | smooth loss=84.5176022263981\n",
      "Iter=1105300 | smooth loss=84.55480375264558\n",
      "Iter=1105400 | smooth loss=84.54253137728851\n",
      "Iter=1105500 | smooth loss=84.55464439218478\n",
      "Synthetized text : pilefdenor\n",
      "nsbronpa mdlgoireoo e seetloan a.n  g fadsion oooy ivy oer\"le theeekiie \"g holvuaar?phhnf\n",
      " or dfsyiiwlasedw h\n",
      "iol as Idrga sohae\n",
      "\n",
      "Hsebt tssWah tnanu  eoh dhn te e d fdu,gwtor   ta slal o ar\n",
      "Iter=1105500 | smooth loss=84.55892497469065\n",
      "Iter=1105600 | smooth loss=84.5642549951337\n",
      "Iter=1105700 | smooth loss=84.6064540228656\n",
      "Iter=1105800 | smooth loss=84.6094183895393\n",
      "Iter=1105900 | smooth loss=84.58692790068838\n",
      "Iter=1106000 | smooth loss=84.57238054018447\n",
      "Synthetized text : casefrnHikwo s\n",
      " eanown scekney vyu dd  enoil.lder, - nel o mydt s\"dn s r   nd Mu elk s?r  dYZt d  satpt heoy.runuf ehimysmo N tfw is sisomelamaeo eoddge6Vedu lshoeuaWldy roR  eoa  r.gTteis hdtetgreaeu\n",
      "Iter=1106000 | smooth loss=84.55716960507749\n",
      "Iter=1106100 | smooth loss=84.56247548335544\n",
      "Iter=1106200 | smooth loss=84.58671909146521\n",
      "Iter=1106300 | smooth loss=84.6413213946596\n",
      "Iter=1106400 | smooth loss=84.64899408719124\n",
      "Iter=1106500 | smooth loss=84.67622428090496\n",
      "Synthetized text :  dth toedgds-\"is   myud n\"s  a. b i'sigeorengb'barmldoe e deenshs ne \"h   yltecriaeawHesh Tr Degm. o efa,ps\" C dimscta'rn jodtn  yedn on mnheau iav fT ngu   itaeg heg t.yhnfihg.ynawmnlienoa fe hon.s w\n",
      "Iter=1106500 | smooth loss=84.66740845763321\n",
      "Iter=1106600 | smooth loss=84.72143273767753\n",
      "Iter=1106700 | smooth loss=84.72828454458204\n",
      "Iter=1106800 | smooth loss=84.79347226526518\n",
      "Iter=1106900 | smooth loss=84.78623709975504\n",
      "Iter=1107000 | smooth loss=84.77603952297707\n",
      "Synthetized text : s si a\n",
      "b hoTho  i  trghtaecidmek bK deh  eikclahod DeVycrowhrood\"o onht ysnia r wtanaerr,gshdyhhtaaki\n",
      "  wnh  eeedcrtaou dHin nrnk whNiic i oodaae .nrrdgayh gt   ve ea aeyg nsclksHen\"hasg tt  .kdodostl\n",
      "Iter=1107000 | smooth loss=84.7818551506819\n",
      "Iter=1107100 | smooth loss=84.79734450824189\n",
      "Iter=1107200 | smooth loss=84.78620189134672\n",
      "Iter=1107300 | smooth loss=84.86516623896067\n",
      "  0%|          | 0/1 [03:47<?, ?it/s]Iter=1107400 | smooth loss=84.82946043792471\n",
      "Iter=1107500 | smooth loss=84.82729606776033\n",
      "Synthetized text : iewa \"oon,uy . \"i sIeti\"aecio h?eid t sw omoi ennsdeentoig e fwuol n.rahe,sWeomegasslolrr Hhly ah yo \"naedaae euinn\n",
      "did hen hc nn \"g twa cCre-pdeeroam nn,n. fih eop iegtrsaot nti\",cea a edngdlae edtr.\n",
      "Iter=1107500 | smooth loss=84.8114261315377\n",
      "\n"
     ]
    },
    {
     "output_type": "error",
     "ename": "IndexError",
     "evalue": "index 16 is out of bounds for axis 0 with size 16",
     "traceback": [
      "\u001b[1;31m---------------------------------------------------------------------------\u001b[0m",
      "\u001b[1;31mIndexError\u001b[0m                                Traceback (most recent call last)",
      "\u001b[1;32m<ipython-input-113-e09795b19e14>\u001b[0m in \u001b[0;36m<module>\u001b[1;34m\u001b[0m\n\u001b[0;32m      1\u001b[0m \u001b[0mimportlib\u001b[0m\u001b[1;33m.\u001b[0m\u001b[0mreload\u001b[0m\u001b[1;33m(\u001b[0m\u001b[0mrnn\u001b[0m\u001b[1;33m)\u001b[0m\u001b[1;33m\u001b[0m\u001b[1;33m\u001b[0m\u001b[0m\n\u001b[0;32m      2\u001b[0m \u001b[0mnet\u001b[0m \u001b[1;33m=\u001b[0m \u001b[0mrnn\u001b[0m\u001b[1;33m.\u001b[0m\u001b[0mRNN\u001b[0m\u001b[1;33m(\u001b[0m\u001b[0mdata\u001b[0m\u001b[1;33m)\u001b[0m\u001b[1;33m\u001b[0m\u001b[1;33m\u001b[0m\u001b[0m\n\u001b[1;32m----> 3\u001b[1;33m \u001b[0mnet\u001b[0m\u001b[1;33m.\u001b[0m\u001b[0mtrain_rnn\u001b[0m\u001b[1;33m(\u001b[0m\u001b[0mepochs\u001b[0m\u001b[1;33m=\u001b[0m\u001b[1;36m1\u001b[0m\u001b[1;33m,\u001b[0m \u001b[0mn\u001b[0m\u001b[1;33m=\u001b[0m\u001b[1;36m200\u001b[0m\u001b[1;33m,\u001b[0m \u001b[0meta\u001b[0m\u001b[1;33m=\u001b[0m\u001b[1;36m.1\u001b[0m\u001b[1;33m,\u001b[0m \u001b[0mverbose\u001b[0m\u001b[1;33m=\u001b[0m\u001b[1;32mTrue\u001b[0m\u001b[1;33m,\u001b[0m \u001b[0mbackup\u001b[0m\u001b[1;33m=\u001b[0m\u001b[1;32mTrue\u001b[0m\u001b[1;33m)\u001b[0m\u001b[1;33m\u001b[0m\u001b[1;33m\u001b[0m\u001b[0m\n\u001b[0m",
      "\u001b[1;32md:\\insa\\5if\\KTH\\P4\\DL\\Assignements\\dl_labs\\lab4\\rnn.py\u001b[0m in \u001b[0;36mtrain_rnn\u001b[1;34m(self, epochs, n, eta, verbose, backup)\u001b[0m\n\u001b[0;32m    190\u001b[0m                         \u001b[0mprint\u001b[0m\u001b[1;33m(\u001b[0m\u001b[1;34mf\"Synthetized text : {syn_text['text']}\"\u001b[0m\u001b[1;33m)\u001b[0m\u001b[1;33m\u001b[0m\u001b[1;33m\u001b[0m\u001b[0m\n\u001b[0;32m    191\u001b[0m \u001b[1;33m\u001b[0m\u001b[0m\n\u001b[1;32m--> 192\u001b[1;33m                 \u001b[0mloss\u001b[0m\u001b[1;33m,\u001b[0m \u001b[0mhprev\u001b[0m \u001b[1;33m=\u001b[0m \u001b[0mself\u001b[0m\u001b[1;33m.\u001b[0m\u001b[0mback_propagation\u001b[0m\u001b[1;33m(\u001b[0m\u001b[0mhprev\u001b[0m\u001b[1;33m,\u001b[0m \u001b[0mX\u001b[0m\u001b[1;33m,\u001b[0m \u001b[0mY\u001b[0m\u001b[1;33m)\u001b[0m\u001b[1;33m\u001b[0m\u001b[1;33m\u001b[0m\u001b[0m\n\u001b[0m\u001b[0;32m    193\u001b[0m \u001b[1;33m\u001b[0m\u001b[0m\n\u001b[0;32m    194\u001b[0m                 \u001b[0mself\u001b[0m\u001b[1;33m.\u001b[0m\u001b[0mada_grad\u001b[0m\u001b[1;33m(\u001b[0m\u001b[0meta\u001b[0m\u001b[1;33m)\u001b[0m\u001b[1;33m\u001b[0m\u001b[1;33m\u001b[0m\u001b[0m\n",
      "\u001b[1;32md:\\insa\\5if\\KTH\\P4\\DL\\Assignements\\dl_labs\\lab4\\rnn.py\u001b[0m in \u001b[0;36mback_propagation\u001b[1;34m(self, h0, X, Y)\u001b[0m\n\u001b[0;32m    144\u001b[0m \u001b[1;33m\u001b[0m\u001b[0m\n\u001b[0;32m    145\u001b[0m     \u001b[1;32mdef\u001b[0m \u001b[0mback_propagation\u001b[0m\u001b[1;33m(\u001b[0m\u001b[0mself\u001b[0m\u001b[1;33m,\u001b[0m \u001b[0mh0\u001b[0m\u001b[1;33m,\u001b[0m \u001b[0mX\u001b[0m\u001b[1;33m,\u001b[0m \u001b[0mY\u001b[0m\u001b[1;33m)\u001b[0m\u001b[1;33m:\u001b[0m\u001b[1;33m\u001b[0m\u001b[1;33m\u001b[0m\u001b[0m\n\u001b[1;32m--> 146\u001b[1;33m         \u001b[0mloss\u001b[0m \u001b[1;33m=\u001b[0m \u001b[0mself\u001b[0m\u001b[1;33m.\u001b[0m\u001b[0mforward_pass\u001b[0m\u001b[1;33m(\u001b[0m\u001b[0mh0\u001b[0m\u001b[1;33m,\u001b[0m \u001b[0mX\u001b[0m\u001b[1;33m,\u001b[0m \u001b[0mY\u001b[0m\u001b[1;33m)\u001b[0m\u001b[1;33m\u001b[0m\u001b[1;33m\u001b[0m\u001b[0m\n\u001b[0m\u001b[0;32m    147\u001b[0m         \u001b[0mself\u001b[0m\u001b[1;33m.\u001b[0m\u001b[0mbackward_pass\u001b[0m\u001b[1;33m(\u001b[0m\u001b[0mX\u001b[0m\u001b[1;33m,\u001b[0m \u001b[0mY\u001b[0m\u001b[1;33m)\u001b[0m\u001b[1;33m\u001b[0m\u001b[1;33m\u001b[0m\u001b[0m\n\u001b[0;32m    148\u001b[0m         \u001b[0mself\u001b[0m\u001b[1;33m.\u001b[0m\u001b[0mgrads\u001b[0m\u001b[1;33m.\u001b[0m\u001b[0mclip_gradients\u001b[0m\u001b[1;33m(\u001b[0m\u001b[1;33m)\u001b[0m\u001b[1;33m\u001b[0m\u001b[1;33m\u001b[0m\u001b[0m\n",
      "\u001b[1;32md:\\insa\\5if\\KTH\\P4\\DL\\Assignements\\dl_labs\\lab4\\rnn.py\u001b[0m in \u001b[0;36mforward_pass\u001b[1;34m(self, h, X, Y)\u001b[0m\n\u001b[0;32m    118\u001b[0m             self.a[t], self.h[t], self.o[t], self.p[t] = self.evaluate_vanilla_rnn(\n\u001b[0;32m    119\u001b[0m                 self.h[t-1], X[t])\n\u001b[1;32m--> 120\u001b[1;33m             \u001b[0mloss\u001b[0m \u001b[1;33m+=\u001b[0m \u001b[1;33m-\u001b[0m\u001b[0mnp\u001b[0m\u001b[1;33m.\u001b[0m\u001b[0mlog\u001b[0m\u001b[1;33m(\u001b[0m\u001b[0mnp\u001b[0m\u001b[1;33m.\u001b[0m\u001b[0msum\u001b[0m\u001b[1;33m(\u001b[0m\u001b[0mnp\u001b[0m\u001b[1;33m.\u001b[0m\u001b[0mmultiply\u001b[0m\u001b[1;33m(\u001b[0m\u001b[0mY\u001b[0m\u001b[1;33m[\u001b[0m\u001b[0mt\u001b[0m\u001b[1;33m]\u001b[0m\u001b[1;33m,\u001b[0m \u001b[0mself\u001b[0m\u001b[1;33m.\u001b[0m\u001b[0mp\u001b[0m\u001b[1;33m[\u001b[0m\u001b[0mt\u001b[0m\u001b[1;33m]\u001b[0m\u001b[1;33m)\u001b[0m\u001b[1;33m,\u001b[0m \u001b[0maxis\u001b[0m\u001b[1;33m=\u001b[0m\u001b[1;36m0\u001b[0m\u001b[1;33m)\u001b[0m\u001b[1;33m)\u001b[0m\u001b[1;33m[\u001b[0m\u001b[1;36m0\u001b[0m\u001b[1;33m]\u001b[0m\u001b[1;33m\u001b[0m\u001b[1;33m\u001b[0m\u001b[0m\n\u001b[0m\u001b[0;32m    121\u001b[0m         \u001b[1;32mreturn\u001b[0m \u001b[0mloss\u001b[0m\u001b[1;33m\u001b[0m\u001b[1;33m\u001b[0m\u001b[0m\n\u001b[0;32m    122\u001b[0m \u001b[1;33m\u001b[0m\u001b[0m\n",
      "\u001b[1;31mIndexError\u001b[0m: index 16 is out of bounds for axis 0 with size 16"
     ]
    }
   ],
   "source": [
    "importlib.reload(rnn)\n",
    "net = rnn.RNN(data)\n",
    "net.train_rnn(epochs=1, n=200, eta=.1, verbose=True, backup=True)"
   ]
  }
 ]
}