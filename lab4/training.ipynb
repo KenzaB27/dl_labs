{
 "metadata": {
  "language_info": {
   "codemirror_mode": {
    "name": "ipython",
    "version": 3
   },
   "file_extension": ".py",
   "mimetype": "text/x-python",
   "name": "python",
   "nbconvert_exporter": "python",
   "pygments_lexer": "ipython3",
   "version": "3.6.12"
  },
  "orig_nbformat": 2,
  "kernelspec": {
   "name": "python3612jvsc74a57bd02762fd0ccae7a6827a0de0868563b3d499c815e35640ddddc3d2dc7e9a34dcb9",
   "display_name": "Python 3.6.12 64-bit (conda)"
  }
 },
 "nbformat": 4,
 "nbformat_minor": 2,
 "cells": [
  {
   "cell_type": "code",
   "execution_count": 1,
   "metadata": {},
   "outputs": [],
   "source": [
    "import numpy as np\n",
    "import rnn as rnn\n",
    "import importlib"
   ]
  },
  {
   "cell_type": "code",
   "execution_count": 4,
   "metadata": {},
   "outputs": [
    {
     "output_type": "stream",
     "name": "stderr",
     "text": [
      "100%|██████████| 20/20 [1:09:38<00:00, 208.93s/it]\n"
     ]
    }
   ],
   "source": [
    "importlib.reload(rnn)\n",
    "net = rnn.RNN()\n",
    "syn_text = net.train_rnn(epochs=20, n=200, eta=.1, verbose=False, backup=True)"
   ]
  },
  {
   "cell_type": "code",
   "execution_count": 6,
   "metadata": {},
   "outputs": [
    {
     "output_type": "execute_result",
     "data": {
      "text/plain": [
       "'onspetse sath were dound my his but wasse, form to .\". \"There wark bolle it it evrouted.  Moody into the wong said tory seelly, at Madny stiss Mad.\\n\"Why that the Hast conting eed like over let an. Durstelly, dois.\"\\nHe naidnew of ha roberol, castey got facing you that themettiolorv, squeder so, Greath Each fing whing of fourd ag on\\'s wilded doorizange, Durter?\"\\nRour cull impager expoge.  \"On whor turning and meled one will belome them fary . . . The more get arong on the had purned bet into juagal\\n\"I fuling ham - and them cold in the kigatly tew the spightly.  He bey Mad-\"\\n\"Marey.  \"I was his mougher. Helmiund it.  Hey it.  I metpedoing out the call, Voldemort.\\n\"Like, winis.  You mag greed.\\n\"There before?\"  Sigettiokle was near, stand, after have Gummial.  It lec\\' the conise lets, behis and pabfed, starthoored to that I\\'m could us as Dumbledore\\'s retiund the dees Mr. Croughing noong Harry Dumbledoring at the unceling.\\nThe supie arounjs anyamby.  \"Poty horrore impresned me to to tobles o'"
      ]
     },
     "metadata": {},
     "execution_count": 6
    }
   ],
   "source": [
    "h0 = np.zeros((net.m, 1))\n",
    "txt = net.synthesize_text(h0, 2, 1000, True)\n",
    "txt"
   ]
  },
  {
   "cell_type": "code",
   "execution_count": 26,
   "metadata": {},
   "outputs": [],
   "source": [
    "importlib.reload(rnn)\n",
    "best = rnn.RNN.load_rnn(\"History/params_886019_39.52032294693737.npy\")\n",
    "h0 = np.zeros((net.m, 1))\n",
    "txt = best.synthesize_text(h0, 2, 1000, True)"
   ]
  }
 ]
}